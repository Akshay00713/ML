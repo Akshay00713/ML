{
  "nbformat": 4,
  "nbformat_minor": 0,
  "metadata": {
    "colab": {
      "provenance": [],
      "authorship_tag": "ABX9TyOAfSe9XbMdKei4gcKuqGOY",
      "include_colab_link": true
    },
    "kernelspec": {
      "name": "python3",
      "display_name": "Python 3"
    },
    "language_info": {
      "name": "python"
    }
  },
  "cells": [
    {
      "cell_type": "markdown",
      "metadata": {
        "id": "view-in-github",
        "colab_type": "text"
      },
      "source": [
        "<a href=\"https://colab.research.google.com/github/Akshay00713/ML/blob/main/crime_prediction.ipynb\" target=\"_parent\"><img src=\"https://colab.research.google.com/assets/colab-badge.svg\" alt=\"Open In Colab\"/></a>"
      ]
    },
    {
      "cell_type": "code",
      "source": [
        "# Install Git if not already installed\n",
        "!apt-get install git\n",
        "\n",
        "# Configure Git\n",
        "!git config --global user.name \"Akshay00713\"\n",
        "!git config --global user.email \"akshaymairal13@gmail.com\"\n"
      ],
      "metadata": {
        "colab": {
          "base_uri": "https://localhost:8080/"
        },
        "id": "UFR1AcIcZqBm",
        "outputId": "1836cd64-d2af-4838-f7a9-499ee863a353"
      },
      "execution_count": null,
      "outputs": [
        {
          "output_type": "stream",
          "name": "stdout",
          "text": [
            "Reading package lists... Done\n",
            "Building dependency tree... Done\n",
            "Reading state information... Done\n",
            "git is already the newest version (1:2.34.1-1ubuntu1.11).\n",
            "0 upgraded, 0 newly installed, 0 to remove and 49 not upgraded.\n"
          ]
        }
      ]
    },
    {
      "cell_type": "code",
      "source": [
        "# Clone your repository\n",
        "!git clone https://github.com/Akshay00713/ML.git\n",
        "\n",
        "# Navigate to the repository folder\n",
        "%cd ML\n"
      ],
      "metadata": {
        "colab": {
          "base_uri": "https://localhost:8080/"
        },
        "id": "olNUQp1obkIS",
        "outputId": "80a8629d-0950-426c-aadd-fd7413b5b026"
      },
      "execution_count": null,
      "outputs": [
        {
          "output_type": "stream",
          "name": "stdout",
          "text": [
            "Cloning into 'ML'...\n",
            "warning: You appear to have cloned an empty repository.\n",
            "/content/ML\n"
          ]
        }
      ]
    },
    {
      "cell_type": "code",
      "source": [
        "# Move your Colab file into the repository folder\n",
        "# !cp /content/Crime prediction.ipynb\n",
        "\n",
        "# # Navigate to the repository folder\n",
        "# %cd /content/<repository-name>\n",
        "\n",
        "# # Add the notebook to the repository\n",
        "!git add .\n",
        "\n",
        "# Commit changes\n",
        "!git commit -m \"Added Colab notebook\"\n",
        "\n",
        "# Push changes to GitHub\n",
        "!git push origin main"
      ],
      "metadata": {
        "colab": {
          "base_uri": "https://localhost:8080/"
        },
        "id": "d6cUUqJhbpa-",
        "outputId": "bc22392c-0fec-4f4f-d800-81b96b10dcb2"
      },
      "execution_count": null,
      "outputs": [
        {
          "output_type": "stream",
          "name": "stdout",
          "text": [
            "On branch main\n",
            "\n",
            "Initial commit\n",
            "\n",
            "nothing to commit (create/copy files and use \"git add\" to track)\n",
            "error: src refspec main does not match any\n",
            "\u001b[31merror: failed to push some refs to 'https://github.com/Akshay00713/ML.git'\n",
            "\u001b[m"
          ]
        }
      ]
    },
    {
      "cell_type": "code",
      "source": [],
      "metadata": {
        "id": "0uUCq6ngcEnf"
      },
      "execution_count": null,
      "outputs": []
    },
    {
      "cell_type": "code",
      "source": [
        "!pip install catboost"
      ],
      "metadata": {
        "id": "6JUwNlEkgaQk",
        "colab": {
          "base_uri": "https://localhost:8080/"
        },
        "outputId": "5b346db5-4d9b-4beb-824b-eb0dfd16e3a1"
      },
      "execution_count": null,
      "outputs": [
        {
          "output_type": "stream",
          "name": "stdout",
          "text": [
            "Collecting catboost\n",
            "  Downloading catboost-1.2.7-cp310-cp310-manylinux2014_x86_64.whl.metadata (1.2 kB)\n",
            "Requirement already satisfied: graphviz in /usr/local/lib/python3.10/dist-packages (from catboost) (0.20.3)\n",
            "Requirement already satisfied: matplotlib in /usr/local/lib/python3.10/dist-packages (from catboost) (3.10.0)\n",
            "Requirement already satisfied: numpy<2.0,>=1.16.0 in /usr/local/lib/python3.10/dist-packages (from catboost) (1.26.4)\n",
            "Requirement already satisfied: pandas>=0.24 in /usr/local/lib/python3.10/dist-packages (from catboost) (2.2.2)\n",
            "Requirement already satisfied: scipy in /usr/local/lib/python3.10/dist-packages (from catboost) (1.13.1)\n",
            "Requirement already satisfied: plotly in /usr/local/lib/python3.10/dist-packages (from catboost) (5.24.1)\n",
            "Requirement already satisfied: six in /usr/local/lib/python3.10/dist-packages (from catboost) (1.17.0)\n",
            "Requirement already satisfied: python-dateutil>=2.8.2 in /usr/local/lib/python3.10/dist-packages (from pandas>=0.24->catboost) (2.8.2)\n",
            "Requirement already satisfied: pytz>=2020.1 in /usr/local/lib/python3.10/dist-packages (from pandas>=0.24->catboost) (2024.2)\n",
            "Requirement already satisfied: tzdata>=2022.7 in /usr/local/lib/python3.10/dist-packages (from pandas>=0.24->catboost) (2024.2)\n",
            "Requirement already satisfied: contourpy>=1.0.1 in /usr/local/lib/python3.10/dist-packages (from matplotlib->catboost) (1.3.1)\n",
            "Requirement already satisfied: cycler>=0.10 in /usr/local/lib/python3.10/dist-packages (from matplotlib->catboost) (0.12.1)\n",
            "Requirement already satisfied: fonttools>=4.22.0 in /usr/local/lib/python3.10/dist-packages (from matplotlib->catboost) (4.55.3)\n",
            "Requirement already satisfied: kiwisolver>=1.3.1 in /usr/local/lib/python3.10/dist-packages (from matplotlib->catboost) (1.4.8)\n",
            "Requirement already satisfied: packaging>=20.0 in /usr/local/lib/python3.10/dist-packages (from matplotlib->catboost) (24.2)\n",
            "Requirement already satisfied: pillow>=8 in /usr/local/lib/python3.10/dist-packages (from matplotlib->catboost) (11.1.0)\n",
            "Requirement already satisfied: pyparsing>=2.3.1 in /usr/local/lib/python3.10/dist-packages (from matplotlib->catboost) (3.2.1)\n",
            "Requirement already satisfied: tenacity>=6.2.0 in /usr/local/lib/python3.10/dist-packages (from plotly->catboost) (9.0.0)\n",
            "Downloading catboost-1.2.7-cp310-cp310-manylinux2014_x86_64.whl (98.7 MB)\n",
            "\u001b[2K   \u001b[90m━━━━━━━━━━━━━━━━━━━━━━━━━━━━━━━━━━━━━━━━\u001b[0m \u001b[32m98.7/98.7 MB\u001b[0m \u001b[31m7.0 MB/s\u001b[0m eta \u001b[36m0:00:00\u001b[0m\n",
            "\u001b[?25hInstalling collected packages: catboost\n",
            "Successfully installed catboost-1.2.7\n"
          ]
        }
      ]
    },
    {
      "cell_type": "code",
      "execution_count": null,
      "metadata": {
        "colab": {
          "base_uri": "https://localhost:8080/",
          "height": 383
        },
        "id": "94tZ3cmmLA_6",
        "outputId": "7d454eca-fde2-4f14-f323-25a3eadf412f"
      },
      "outputs": [
        {
          "output_type": "error",
          "ename": "ModuleNotFoundError",
          "evalue": "No module named 'catboost'",
          "traceback": [
            "\u001b[0;31m---------------------------------------------------------------------------\u001b[0m",
            "\u001b[0;31mModuleNotFoundError\u001b[0m                       Traceback (most recent call last)",
            "\u001b[0;32m<ipython-input-1-2eb5dde3a23c>\u001b[0m in \u001b[0;36m<cell line: 19>\u001b[0;34m()\u001b[0m\n\u001b[1;32m     17\u001b[0m \u001b[0;31m# Bounus\u001b[0m\u001b[0;34m\u001b[0m\u001b[0;34m\u001b[0m\u001b[0m\n\u001b[1;32m     18\u001b[0m \u001b[0;32mfrom\u001b[0m \u001b[0msklearn\u001b[0m\u001b[0;34m.\u001b[0m\u001b[0mensemble\u001b[0m \u001b[0;32mimport\u001b[0m \u001b[0mRandomForestClassifier\u001b[0m\u001b[0;34m\u001b[0m\u001b[0;34m\u001b[0m\u001b[0m\n\u001b[0;32m---> 19\u001b[0;31m \u001b[0;32mfrom\u001b[0m \u001b[0mcatboost\u001b[0m \u001b[0;32mimport\u001b[0m \u001b[0mCatBoostClassifier\u001b[0m\u001b[0;34m\u001b[0m\u001b[0;34m\u001b[0m\u001b[0m\n\u001b[0m\u001b[1;32m     20\u001b[0m \u001b[0;32mfrom\u001b[0m \u001b[0mxgboost\u001b[0m \u001b[0;32mimport\u001b[0m \u001b[0mXGBClassifier\u001b[0m\u001b[0;34m\u001b[0m\u001b[0;34m\u001b[0m\u001b[0m\n\u001b[1;32m     21\u001b[0m \u001b[0;32mfrom\u001b[0m \u001b[0mlightgbm\u001b[0m \u001b[0;32mimport\u001b[0m \u001b[0mLGBMClassifier\u001b[0m\u001b[0;34m\u001b[0m\u001b[0;34m\u001b[0m\u001b[0m\n",
            "\u001b[0;31mModuleNotFoundError\u001b[0m: No module named 'catboost'",
            "",
            "\u001b[0;31m---------------------------------------------------------------------------\u001b[0;32m\nNOTE: If your import is failing due to a missing package, you can\nmanually install dependencies using either !pip or !apt.\n\nTo view examples of installing some common dependencies, click the\n\"Open Examples\" button below.\n\u001b[0;31m---------------------------------------------------------------------------\u001b[0m\n"
          ],
          "errorDetails": {
            "actions": [
              {
                "action": "open_url",
                "actionText": "Open Examples",
                "url": "/notebooks/snippets/importing_libraries.ipynb"
              }
            ]
          }
        }
      ],
      "source": [
        "import pandas as pd\n",
        "import numpy as np\n",
        "import matplotlib.pyplot as plt\n",
        "import seaborn as sns\n",
        "\n",
        "import joblib\n",
        "import tkinter as tk\n",
        "from tkinter import ttk\n",
        "\n",
        "from sklearn.model_selection import train_test_split\n",
        "from sklearn.preprocessing import LabelEncoder\n",
        "from imblearn.over_sampling import SMOTE\n",
        "from sklearn.linear_model import LogisticRegression\n",
        "from sklearn.tree import DecisionTreeClassifier\n",
        "from sklearn.neighbors import KNeighborsClassifier\n",
        "from sklearn.svm import SVC\n",
        "# Bounus\n",
        "from sklearn.ensemble import RandomForestClassifier\n",
        "from catboost import CatBoostClassifier\n",
        "from xgboost import XGBClassifier\n",
        "from lightgbm import LGBMClassifier\n",
        "# Metrics\n",
        "from sklearn.metrics import accuracy_score,precision_score,recall_score,f1_score,classification_report, confusion_matrix, roc_auc_score"
      ]
    },
    {
      "cell_type": "code",
      "source": [
        "df = pd.read_csv('Crime Prediction in Chicago_Dataset.csv')"
      ],
      "metadata": {
        "id": "bB62RxEsLxyC"
      },
      "execution_count": null,
      "outputs": []
    },
    {
      "cell_type": "code",
      "source": [
        "df.head(10).T"
      ],
      "metadata": {
        "id": "yRVtP9fnMK6J"
      },
      "execution_count": null,
      "outputs": []
    },
    {
      "cell_type": "code",
      "source": [
        "df.info()"
      ],
      "metadata": {
        "id": "-y9PI3MFMVI4"
      },
      "execution_count": null,
      "outputs": []
    },
    {
      "cell_type": "code",
      "source": [
        "df.shape"
      ],
      "metadata": {
        "id": "nuS0r68zMiQQ"
      },
      "execution_count": null,
      "outputs": []
    },
    {
      "cell_type": "code",
      "source": [
        "df.describe()"
      ],
      "metadata": {
        "id": "oaa5oFkFMjKm"
      },
      "execution_count": null,
      "outputs": []
    },
    {
      "cell_type": "code",
      "source": [
        "df.isnull().sum()"
      ],
      "metadata": {
        "id": "zpnBpIG_MmD4"
      },
      "execution_count": null,
      "outputs": []
    },
    {
      "cell_type": "code",
      "source": [
        "df['Location Description'].value_counts().head(10)"
      ],
      "metadata": {
        "id": "u-Egbk0JMo8k"
      },
      "execution_count": null,
      "outputs": []
    },
    {
      "cell_type": "code",
      "source": [
        "df['Location Description'] = df['Location Description'].fillna(df['Location Description'].mode()[0])"
      ],
      "metadata": {
        "id": "EQmCGXVoM5D6"
      },
      "execution_count": null,
      "outputs": []
    },
    {
      "cell_type": "code",
      "source": [
        "df.isnull().sum()"
      ],
      "metadata": {
        "id": "fFu7541RNDMk"
      },
      "execution_count": null,
      "outputs": []
    },
    {
      "cell_type": "code",
      "source": [
        "df.duplicated().sum()"
      ],
      "metadata": {
        "id": "jJ9tAjurNKgv"
      },
      "execution_count": null,
      "outputs": []
    },
    {
      "cell_type": "code",
      "source": [
        "df_null_ward = df[df.Ward.isnull()]\n",
        "df_null_ward.T"
      ],
      "metadata": {
        "id": "BUA-1upDNU7p"
      },
      "execution_count": null,
      "outputs": []
    },
    {
      "cell_type": "code",
      "source": [
        "df_null_ward['District']"
      ],
      "metadata": {
        "id": "DkPzpzeFNb_G"
      },
      "execution_count": null,
      "outputs": []
    },
    {
      "cell_type": "code",
      "source": [
        "df2=df[df['District']==24]\n",
        "df2['Ward'].describe()"
      ],
      "metadata": {
        "id": "7RIMQnEKNhFT"
      },
      "execution_count": null,
      "outputs": []
    },
    {
      "cell_type": "code",
      "source": [
        "df2 = df[df['District']==16]\n",
        "df2['Ward'].describe()"
      ],
      "metadata": {
        "id": "leR8iqYUOKEM"
      },
      "execution_count": null,
      "outputs": []
    },
    {
      "cell_type": "code",
      "source": [
        "df.loc[df['District'] == 24, 'Ward'] = 49\n",
        "df.loc[df['District'] == 16, 'Ward'] = 41"
      ],
      "metadata": {
        "id": "SXnQ7peHNtj0"
      },
      "execution_count": null,
      "outputs": []
    },
    {
      "cell_type": "code",
      "source": [
        "df.isnull().sum()"
      ],
      "metadata": {
        "id": "PFVLbC01OPSg"
      },
      "execution_count": null,
      "outputs": []
    },
    {
      "cell_type": "code",
      "source": [
        "df.dropna(subset=['X Coordinate'], inplace=True)"
      ],
      "metadata": {
        "id": "Vk1LYkYgORzz"
      },
      "execution_count": null,
      "outputs": []
    },
    {
      "cell_type": "code",
      "source": [
        "df.isnull().sum()"
      ],
      "metadata": {
        "id": "Y_kYi7A_Oe3s"
      },
      "execution_count": null,
      "outputs": []
    },
    {
      "cell_type": "code",
      "source": [
        "df.Date"
      ],
      "metadata": {
        "id": "t4004KFkOmlt"
      },
      "execution_count": null,
      "outputs": []
    },
    {
      "cell_type": "code",
      "source": [
        "df.Block.value_counts().head(10)"
      ],
      "metadata": {
        "id": "gTES0l9MOqBm"
      },
      "execution_count": null,
      "outputs": []
    },
    {
      "cell_type": "code",
      "source": [
        "df.info()"
      ],
      "metadata": {
        "id": "ZCoH88BZOvaR"
      },
      "execution_count": null,
      "outputs": []
    },
    {
      "cell_type": "code",
      "source": [
        "df['IUCR'].value_counts().head(10)"
      ],
      "metadata": {
        "id": "hATuoUh8Oy58"
      },
      "execution_count": null,
      "outputs": []
    },
    {
      "cell_type": "code",
      "source": [
        "df.info()"
      ],
      "metadata": {
        "id": "NHbN6xU9O53R"
      },
      "execution_count": null,
      "outputs": []
    },
    {
      "cell_type": "code",
      "source": [
        "count_prim = df['Primary Type'].value_counts().head(15)\n",
        "count_prim"
      ],
      "metadata": {
        "id": "1jqHQGH-O6zR"
      },
      "execution_count": null,
      "outputs": []
    },
    {
      "cell_type": "code",
      "source": [
        "plt.style.use(\"fivethirtyeight\")\n",
        "plt.figure(figsize=(8,5))\n",
        "sns.barplot(y=count_prim.index,x=count_prim.values,palette=\"viridis\")\n",
        "plt.title(\"TOP 15 Primary Types\")\n",
        "plt.ylabel(\"Types\")\n",
        "plt.xlabel(\"count\")\n",
        "plt.show()"
      ],
      "metadata": {
        "id": "j36_vonxO9FE"
      },
      "execution_count": null,
      "outputs": []
    },
    {
      "cell_type": "code",
      "source": [
        "count_Des = df['Description'].value_counts().head(10)\n",
        "count_Des"
      ],
      "metadata": {
        "id": "-DjWeZNjO_VT"
      },
      "execution_count": null,
      "outputs": []
    },
    {
      "cell_type": "code",
      "source": [
        "plt.style.use(\"fivethirtyeight\")\n",
        "plt.figure(figsize=(6,4))\n",
        "sns.barplot(y=count_Des.index,x=count_Des.values,palette=\"viridis\")\n",
        "plt.title(\"TOP 5 Descriprtion\")\n",
        "plt.ylabel(\"Description\")\n",
        "plt.xlabel(\"count\")\n",
        "plt.xticks(rotation=45)\n",
        "plt.show()"
      ],
      "metadata": {
        "id": "mJlpM7xOPBmp"
      },
      "execution_count": null,
      "outputs": []
    },
    {
      "cell_type": "code",
      "source": [
        "count = df['Arrest'].value_counts()\n",
        "percentage = df['Arrest'].value_counts(normalize=True)*100\n",
        "freqTable = pd.DataFrame({'Frequency':count,'Percentage':percentage})\n",
        "freqTable"
      ],
      "metadata": {
        "id": "neW_d4KlPDSa"
      },
      "execution_count": null,
      "outputs": []
    },
    {
      "cell_type": "code",
      "source": [
        "plt.figure(figsize=(8, 4))\n",
        "sns.heatmap(freqTable.T, annot=True, fmt=\".1f\", cmap=\"YlGnBu\", cbar=False)\n",
        "plt.title(\"Arrest\")\n",
        "plt.xlabel('')\n",
        "plt.show()"
      ],
      "metadata": {
        "id": "rdHG25tjPeXk"
      },
      "execution_count": null,
      "outputs": []
    },
    {
      "cell_type": "code",
      "source": [
        "count_dom = df['Domestic'].value_counts()\n",
        "count_dom"
      ],
      "metadata": {
        "id": "qRefuQ12PnKj"
      },
      "execution_count": null,
      "outputs": []
    },
    {
      "cell_type": "code",
      "source": [
        "plt.style.use(\"ggplot\")\n",
        "plt.figure(figsize=(6, 6))\n",
        "plt.pie(count_dom, labels=count_dom.index, autopct='%1.1f%%', startangle=90,textprops={\"fontweight\":\"black\"},explode=[0, 0.1])\n",
        "plt.title(\"Domestic\")\n",
        "plt.legend()\n",
        "plt.show()"
      ],
      "metadata": {
        "id": "cPpuWajTQGtL"
      },
      "execution_count": null,
      "outputs": []
    },
    {
      "cell_type": "code",
      "source": [
        "df['Beat'].value_counts()"
      ],
      "metadata": {
        "id": "QhbfCT_XQJFJ"
      },
      "execution_count": null,
      "outputs": []
    },
    {
      "cell_type": "code",
      "source": [
        "df['District'].value_counts()"
      ],
      "metadata": {
        "id": "WbcK4Tg6Qb6n"
      },
      "execution_count": null,
      "outputs": []
    },
    {
      "cell_type": "code",
      "source": [
        "df['Ward'].value_counts().head(20)"
      ],
      "metadata": {
        "id": "aUy4nhZHQmk0"
      },
      "execution_count": null,
      "outputs": []
    },
    {
      "cell_type": "code",
      "source": [
        "df['Community Area'].value_counts().head(10)"
      ],
      "metadata": {
        "id": "NYLN5BoyQp1I"
      },
      "execution_count": null,
      "outputs": []
    },
    {
      "cell_type": "code",
      "source": [
        "df['FBI Code'].value_counts()"
      ],
      "metadata": {
        "id": "_LJW7x2uQvBk"
      },
      "execution_count": null,
      "outputs": []
    },
    {
      "cell_type": "code",
      "source": [
        "df = df.drop(columns=['Year', 'Location'])"
      ],
      "metadata": {
        "id": "JJPqo4Y7Qxg-"
      },
      "execution_count": null,
      "outputs": []
    },
    {
      "cell_type": "code",
      "source": [
        "df.groupby(['IUCR', 'Primary Type', 'FBI Code']).size().head(20)"
      ],
      "metadata": {
        "id": "HaizYkitQ7Qf"
      },
      "execution_count": null,
      "outputs": []
    },
    {
      "cell_type": "code",
      "source": [
        "df.groupby(['Primary Type'])['Description'].value_counts().head(50)"
      ],
      "metadata": {
        "id": "FrNvTH2BR8NP"
      },
      "execution_count": null,
      "outputs": []
    },
    {
      "cell_type": "code",
      "source": [
        "df.groupby(['Description'])['Arrest'].value_counts(normalize=True).head(10)*100"
      ],
      "metadata": {
        "id": "iiYpZ9fGSX92"
      },
      "execution_count": null,
      "outputs": []
    },
    {
      "cell_type": "code",
      "source": [
        "df.groupby(['Primary Type'])['Arrest'].value_counts(normalize=True).tail(10)*100"
      ],
      "metadata": {
        "id": "eypP-J8iSgxW"
      },
      "execution_count": null,
      "outputs": []
    },
    {
      "cell_type": "code",
      "source": [
        "df.groupby(['Location Description'])['Arrest'].value_counts(normalize=True).head(20)*100"
      ],
      "metadata": {
        "id": "_wKgJzsITyuS"
      },
      "execution_count": null,
      "outputs": []
    },
    {
      "cell_type": "code",
      "source": [
        "def splitBlock(x):\n",
        "    x = x.split(\" \")\n",
        "    x = x[1:]\n",
        "    return \" \".join(x[0:])\n",
        "df.Block = df.Block.apply(splitBlock)"
      ],
      "metadata": {
        "id": "Mc_80XUWT0ud"
      },
      "execution_count": null,
      "outputs": []
    },
    {
      "cell_type": "code",
      "source": [
        "columns = df[['Description','Primary Type','Location Description','Block','Date','Time']]\n",
        "encoders={}\n",
        "for col in columns:\n",
        "    encoder = LabelEncoder()\n",
        "    df[col] = encoder.fit_transform(df[col])\n",
        "    encoders[col] = encoder"
      ],
      "metadata": {
        "id": "nHMXegYwT4ZF"
      },
      "execution_count": null,
      "outputs": []
    },
    {
      "cell_type": "code",
      "source": [
        "df.info()"
      ],
      "metadata": {
        "id": "wreUD2ZFVQiY"
      },
      "execution_count": null,
      "outputs": []
    },
    {
      "cell_type": "code",
      "source": [
        "correlation_matrix = df.corr(numeric_only=True)\n",
        "correlation_arrest = correlation_matrix['Arrest'].sort_values(ascending=False)\n",
        "plt.figure(figsize=(8, 5))\n",
        "sns.heatmap(correlation_arrest.to_frame(), annot=True, cmap='coolwarm', fmt='.2f', linewidths=0.5)\n",
        "plt.title('Correlation with Arrest')\n",
        "plt.show()"
      ],
      "metadata": {
        "id": "s31m-BWQVSFn"
      },
      "execution_count": null,
      "outputs": []
    },
    {
      "cell_type": "code",
      "source": [
        "X = df.drop(columns=['ID','Arrest','Case Number','X Coordinate','Y Coordinate','Latitude','Longitude','IUCR','FBI Code','Community Area','Updated On'])\n",
        "y = df['Arrest']"
      ],
      "metadata": {
        "id": "8OeVeLbTVUP6"
      },
      "execution_count": null,
      "outputs": []
    },
    {
      "cell_type": "code",
      "source": [
        "X"
      ],
      "metadata": {
        "id": "Xrq8TqIPVWHZ"
      },
      "execution_count": null,
      "outputs": []
    },
    {
      "cell_type": "code",
      "source": [
        "smote = SMOTE(sampling_strategy=0.75,random_state=42)\n",
        "X_resampled, y_resampled = smote.fit_resample(X, y)"
      ],
      "metadata": {
        "id": "NN_iGDOpVXC1"
      },
      "execution_count": null,
      "outputs": []
    },
    {
      "cell_type": "code",
      "source": [
        "y_resampled.value_counts()"
      ],
      "metadata": {
        "id": "gRyiKwVvVbFb"
      },
      "execution_count": null,
      "outputs": []
    },
    {
      "cell_type": "code",
      "source": [
        "X_train,X_test,y_train,y_test = train_test_split(X_resampled,y_resampled,test_size=0.3,shuffle=True,random_state=57)"
      ],
      "metadata": {
        "id": "hv7eh13WVdt9"
      },
      "execution_count": null,
      "outputs": []
    },
    {
      "cell_type": "code",
      "source": [
        "models = {\n",
        "    'LogisticRegression': LogisticRegression(max_iter=500),\n",
        "    'Decision Tree Classifier': DecisionTreeClassifier(splitter='best',random_state=42),\n",
        "    'K-Nearest Neighbors': KNeighborsClassifier(n_neighbors=5),\n",
        "    'Random Forest': RandomForestClassifier(n_estimators=200, random_state=57),\n",
        "    'XGBoost': XGBClassifier(n_estimators=100,learning_rate=0.01),\n",
        "    'CatBoost': CatBoostClassifier(learning_rate=0.08,depth=10,l2_leaf_reg=1.7,iterations=500, verbose=0),\n",
        "    'LightGBM': LGBMClassifier(n_estimators=100, learning_rate=0.01,verbose=0)\n",
        "}\n",
        "\n",
        "results = []\n",
        "\n",
        "for model_name, model in models.items():\n",
        "    model.fit(X_train, y_train)\n",
        "    y_pred = model.predict(X_test)\n",
        "    y_pred_prob = model.predict_proba(X_test)[:, 1]\n",
        "\n",
        "    print(model_name)\n",
        "    print(\"-\"*10)\n",
        "\n",
        "    confusion = confusion_matrix(y_test, y_pred)\n",
        "    accuracy = round(accuracy_score(y_test, y_pred) * 100, 2)\n",
        "    precision = round(precision_score(y_test, y_pred) * 100, 2)\n",
        "    recall = round(recall_score(y_test, y_pred) * 100, 2)\n",
        "    f1 = round(f1_score(y_test, y_pred) * 100, 2)\n",
        "    roc = round(roc_auc_score(y_test, y_pred_prob) * 100, 2)\n",
        "\n",
        "    plt.figure(figsize=(6, 4))\n",
        "    sns.heatmap(confusion, annot=True, fmt='d', cmap='Blues', linewidths=.5, cbar=False)\n",
        "    plt.title('Confusion Matrix')\n",
        "    plt.xlabel('Predicted')\n",
        "    plt.ylabel('Actual')\n",
        "    plt.show()\n",
        "\n",
        "    print(classification_report(y_test, y_pred))\n",
        "    results.append({\n",
        "        'Model': model_name,\n",
        "        'Accuracy Score': f\"{accuracy}%\",\n",
        "        'Precision': f\"{precision}%\",\n",
        "        'Recall': f\"{recall}%\",\n",
        "        'F1 Score': f\"{f1}%\",\n",
        "        'ROC-AUC': f\"{roc}%\"\n",
        "    })\n",
        "\n",
        "results_df = pd.DataFrame(results)\n",
        "display(results_df)"
      ],
      "metadata": {
        "id": "38PnuIg3VgA1"
      },
      "execution_count": null,
      "outputs": []
    },
    {
      "cell_type": "code",
      "source": [
        "model = RandomForestClassifier(n_estimators=200, random_state=57)\n",
        "model.fit(X_train, y_train)\n",
        "\n",
        "y_pred = model.predict(X_test)\n",
        "y_pred_prob = model.predict_proba(X_test)[:, 1]\n",
        "\n",
        "\n",
        "acc = accuracy_score(y_test,y_pred)\n",
        "confusion = confusion_matrix(y_test,y_pred)\n",
        "classification_rep = classification_report(y_test,y_pred)\n",
        "roc = roc_auc_score(y_test,y_pred_prob)\n",
        "\n",
        "\n",
        "print(f'{round(acc*100)}%')\n",
        "print(confusion)\n",
        "print(classification_rep)\n",
        "print(f'{round(roc*100)}%')\n",
        "\n",
        "\n",
        "plt.figure(figsize=(6, 4))\n",
        "sns.heatmap(confusion, annot=True, fmt='d', cmap='Blues', linewidths=.5, cbar=False)\n",
        "plt.title('Confusion Matrix')\n",
        "plt.xlabel('Predicted')\n",
        "plt.ylabel('Actual')\n",
        "plt.show()"
      ],
      "metadata": {
        "id": "jMP6G2AjVuHF"
      },
      "execution_count": null,
      "outputs": []
    },
    {
      "cell_type": "code",
      "source": [],
      "metadata": {
        "id": "D3D_U4gDWaNM"
      },
      "execution_count": null,
      "outputs": []
    }
  ]
}